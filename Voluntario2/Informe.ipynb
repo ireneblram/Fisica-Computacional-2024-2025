{
 "cells": [
  {
   "cell_type": "markdown",
   "id": "e548568c",
   "metadata": {},
   "source": [
    "# **Simulación del Modelo de Ising con la dinámica de Kawasaki**\n",
    "## Problema Voluntario 2\n",
    "### Física Computacional - 2025\n",
    "\n",
    "---\n",
    "\n",
    "**Autores:**\n",
    "- Nombre 1\n",
    "- Nombre 2\n",
    "- Nombre 3\n",
    "\n",
    "**Fecha:** 8 de mayo de 2025\n",
    "\n",
    "---\n",
    "![Logo de Python](https://www.python.org/static/community_logos/python-logo-generic.svg)"
   ]
  },
  {
   "cell_type": "markdown",
   "id": "b709526c",
   "metadata": {},
   "source": [
    "# Índice\n",
    "\n",
    "1. [Simulación del Modelo de Ising](#Simulación-del-Modelo-de-Ising)\n",
    "2. [Temperatura 1.5 K](#Temperatura-1.5-K)\n",
    "3. [Temperatura 3 K](#Temperatura-3-K)\n",
    "\n",
    "# Simulación del Modelo de Ising\n",
    "...\n",
    "\n",
    "## Temperatura 1.5 K\n",
    "...\n",
    "\n",
    "## Temperatura 3 K\n",
    "..."
   ]
  }
 ],
 "metadata": {
  "kernelspec": {
   "display_name": "Python 3",
   "language": "python",
   "name": "python3"
  },
  "language_info": {
   "name": "python",
   "version": "3.12.9"
  }
 },
 "nbformat": 4,
 "nbformat_minor": 5
}
